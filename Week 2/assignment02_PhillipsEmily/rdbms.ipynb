{
 "cells": [
  {
   "cell_type": "code",
   "execution_count": 1,
   "metadata": {},
   "outputs": [],
   "source": [
    "from pathlib import Path\n",
    "import os\n",
    "import sqlite3\n",
    "\n",
    "import s3fs\n",
    "import pandas as pd\n",
    "\n",
    "current_dir = Path(os.getcwd()).absolute()\n",
    "results_dir = current_dir.joinpath('results')\n",
    "kv_data_dir = results_dir.joinpath('kvdb')\n",
    "kv_data_dir.mkdir(parents=True, exist_ok=True)\n",
    "\n",
    "\n",
    "def read_cluster_csv(file_path, endpoint_url='https://storage.budsc.midwest-datascience.com'):\n",
    "    s3 = s3fs.S3FileSystem(\n",
    "        anon=True,\n",
    "        client_kwargs={\n",
    "            'endpoint_url': endpoint_url\n",
    "        }\n",
    "    )\n",
    "    return pd.read_csv(s3.open(file_path, mode='rb'))"
   ]
  },
  {
   "cell_type": "markdown",
   "metadata": {},
   "source": [
    "## Create and Load Measurements Table"
   ]
  },
  {
   "cell_type": "code",
   "execution_count": 2,
   "metadata": {},
   "outputs": [],
   "source": [
    "def create_measurements_table(conn):\n",
    "    sql = \"\"\"\n",
    "    CREATE TABLE IF NOT EXISTS measurements (\n",
    "        visit_id integer NOT NULL,\n",
    "        person_id text NOT NULL,\n",
    "        quantity text,\n",
    "        reading real,\n",
    "        FOREIGN KEY (visit_id) REFERENCES visits (visit_id),\n",
    "        FOREIGN KEY (person_id) REFERENCES people (people_id)\n",
    "        );\n",
    "    \"\"\"\n",
    "\n",
    "    c = conn.cursor()\n",
    "    c.execute(sql)\n",
    "    \n",
    "def load_measurements_table(conn):\n",
    "    create_measurements_table(conn)\n",
    "    df = read_cluster_csv('data/external/tidynomicon/measurements.csv')\n",
    "    measurements = df.values\n",
    "    c = conn.cursor()\n",
    "    c.execute('DELETE FROM measurements;') # Delete data if exists\n",
    "    c.executemany('INSERT INTO measurements VALUES (?,?,?,?)', measurements)"
   ]
  },
  {
   "cell_type": "markdown",
   "metadata": {},
   "source": [
    "## Create and Load People Table"
   ]
  },
  {
   "cell_type": "code",
   "execution_count": 3,
   "metadata": {},
   "outputs": [],
   "source": [
    "def create_people_table(conn):\n",
    "    #generate SQL for people table based on fields in csv\n",
    "    sql = \"\"\"\n",
    "    CREATE TABLE IF NOT EXISTS people(\n",
    "    person_id text PRIMARY KEY,\n",
    "    personal_name text,\n",
    "    family_name text\n",
    "    );\n",
    "    \"\"\"\n",
    "    ## TODO: Complete SQL\n",
    "    c = conn.cursor()\n",
    "    c.execute(sql)\n",
    "    \n",
    "def load_people_table(conn):\n",
    "    create_people_table(conn)\n",
    "    ## TODO: Complete code\n",
    "    df = read_cluster_csv('data/external/tidynomicon/person.csv')\n",
    "    persons = df.values\n",
    "    c = conn.cursor()\n",
    "    c.execute('DELETE FROM people;') # Delete data if exists\n",
    "    #three empty values\n",
    "    c.executemany('INSERT INTO people VALUES (?,?,?)', persons)"
   ]
  },
  {
   "cell_type": "markdown",
   "metadata": {},
   "source": [
    "## Create and Load Sites Table"
   ]
  },
  {
   "cell_type": "code",
   "execution_count": 4,
   "metadata": {},
   "outputs": [],
   "source": [
    "def create_sites_table(conn):\n",
    "    sql = \"\"\"\n",
    "    CREATE TABLE IF NOT EXISTS sites (\n",
    "        site_id text PRIMARY KEY,\n",
    "        latitude double NOT NULL,\n",
    "        longitude double NOT NULL\n",
    "        );\n",
    "    \"\"\"\n",
    "\n",
    "    c = conn.cursor()\n",
    "    c.execute(sql)\n",
    "\n",
    "def load_sites_table(conn):\n",
    "    create_sites_table(conn)\n",
    "    ## TODO: Complete code\n",
    "    df = read_cluster_csv('data/external/tidynomicon/site.csv')\n",
    "    sites = df.values\n",
    "    c = conn.cursor()\n",
    "    c.execute('DELETE FROM sites;') # Delete data if exists\n",
    "    #three empty values\n",
    "    c.executemany('INSERT INTO sites VALUES (?,?,?)', sites)"
   ]
  },
  {
   "cell_type": "markdown",
   "metadata": {},
   "source": [
    "## Create and Load Visits Table"
   ]
  },
  {
   "cell_type": "code",
   "execution_count": 5,
   "metadata": {},
   "outputs": [],
   "source": [
    "def create_visits_table(conn):\n",
    "    sql = \"\"\"\n",
    "    CREATE TABLE IF NOT EXISTS visits (\n",
    "        visit_id integer PRIMARY KEY,\n",
    "        site_id text NOT NULL,\n",
    "        visit_date text,\n",
    "        FOREIGN KEY (site_id) REFERENCES sites (site_id)\n",
    "        );\n",
    "    \"\"\"\n",
    "\n",
    "    c = conn.cursor()\n",
    "    c.execute(sql)\n",
    "\n",
    "def load_visits_table(conn):\n",
    "    create_visits_table(conn)\n",
    "    ## TODO: Complete code\n",
    "    df = read_cluster_csv('data/external/tidynomicon/visited.csv')\n",
    "    visits = df.values\n",
    "    c = conn.cursor()\n",
    "    c.execute('DELETE FROM visits;') # Delete data if exists\n",
    "    #three empty values\n",
    "    c.executemany('INSERT INTO visits VALUES (?,?,?)', visits)"
   ]
  },
  {
   "cell_type": "markdown",
   "metadata": {},
   "source": [
    "## Create DB and Load Tables"
   ]
  },
  {
   "cell_type": "code",
   "execution_count": 7,
   "metadata": {},
   "outputs": [
    {
     "name": "stdout",
     "output_type": "stream",
     "text": [
      "--------------------Tables in the database------------------\n",
      "[('people',), ('sites',), ('visits',), ('measurements',)]\n",
      "------------------------------------------------------------\n",
      "------------------Join between all tables-------------------\n",
      "('dyer', 'William', 'Dyer', 619, 'dyer', 'rad', 9.82, 619, 'DR-1', '1927-02-08', 'DR-1', -49.85, -128.57)\n",
      "('dyer', 'William', 'Dyer', 619, 'dyer', 'sal', 0.13, 619, 'DR-1', '1927-02-08', 'DR-1', -49.85, -128.57)\n",
      "('dyer', 'William', 'Dyer', 622, 'dyer', 'rad', 7.8, 622, 'DR-1', '1927-02-10', 'DR-1', -49.85, -128.57)\n",
      "('dyer', 'William', 'Dyer', 622, 'dyer', 'sal', 0.09, 622, 'DR-1', '1927-02-10', 'DR-1', -49.85, -128.57)\n",
      "('pb', 'Frank', 'Pabodie', 734, 'pb', 'rad', 8.41, 734, 'DR-3', '1930-01-07', 'DR-3', -47.15, -126.72)\n",
      "('lake', 'Anderson', 'Lake', 734, 'lake', 'sal', 0.05, 734, 'DR-3', '1930-01-07', 'DR-3', -47.15, -126.72)\n",
      "('pb', 'Frank', 'Pabodie', 734, 'pb', 'temp', -21.5, 734, 'DR-3', '1930-01-07', 'DR-3', -47.15, -126.72)\n",
      "('pb', 'Frank', 'Pabodie', 735, 'pb', 'rad', 7.22, 735, 'DR-3', '1930-01-12', 'DR-3', -47.15, -126.72)\n",
      "('pb', 'Frank', 'Pabodie', 735, 'pb', 'sal', 0.06, 735, 'DR-3', '1930-01-12', 'DR-3', -47.15, -126.72)\n",
      "('pb', 'Frank', 'Pabodie', 735, 'pb', 'temp', -26.0, 735, 'DR-3', '1930-01-12', 'DR-3', -47.15, -126.72)\n",
      "('pb', 'Frank', 'Pabodie', 751, 'pb', 'rad', 4.35, 751, 'DR-3', '1930-02-26', 'DR-3', -47.15, -126.72)\n",
      "('pb', 'Frank', 'Pabodie', 751, 'pb', 'temp', -18.5, 751, 'DR-3', '1930-02-26', 'DR-3', -47.15, -126.72)\n",
      "('lake', 'Anderson', 'Lake', 752, 'lake', 'rad', 2.19, 752, 'DR-3', None, 'DR-3', -47.15, -126.72)\n",
      "('lake', 'Anderson', 'Lake', 752, 'lake', 'sal', 0.09, 752, 'DR-3', None, 'DR-3', -47.15, -126.72)\n",
      "('lake', 'Anderson', 'Lake', 752, 'lake', 'temp', -16.0, 752, 'DR-3', None, 'DR-3', -47.15, -126.72)\n",
      "('roe', 'Valentina', 'Roerich', 752, 'roe', 'sal', 41.6, 752, 'DR-3', None, 'DR-3', -47.15, -126.72)\n",
      "('lake', 'Anderson', 'Lake', 837, 'lake', 'rad', 1.46, 837, 'MSK-4', '1932-01-14', 'MSK-4', -48.87, -123.4)\n",
      "('lake', 'Anderson', 'Lake', 837, 'lake', 'sal', 0.21, 837, 'MSK-4', '1932-01-14', 'MSK-4', -48.87, -123.4)\n",
      "('roe', 'Valentina', 'Roerich', 837, 'roe', 'sal', 22.5, 837, 'MSK-4', '1932-01-14', 'MSK-4', -48.87, -123.4)\n",
      "('roe', 'Valentina', 'Roerich', 844, 'roe', 'rad', 11.25, 844, 'DR-1', '1932-03-22', 'DR-1', -49.85, -128.57)\n",
      "-----------------------------------------------------------\n"
     ]
    }
   ],
   "source": [
    "db_path = results_dir.joinpath('patient-info.db')\n",
    "conn = sqlite3.connect(str(db_path))\n",
    "# TODO: Uncomment once functions completed\n",
    "load_people_table(conn) \n",
    "load_sites_table(conn)\n",
    "load_visits_table(conn)\n",
    "load_measurements_table(conn)\n",
    "\n",
    "conn.commit()\n",
    "#selecting from tables for testing\n",
    "cur = conn.cursor()\n",
    "#pulling table names\n",
    "print(\"--------------------Tables in the database------------------\")\n",
    "cur.execute('SELECT name from sqlite_master where type = \"table\"')\n",
    "print(cur.fetchall())\n",
    "print(\"------------------------------------------------------------\")\n",
    "\n",
    "#testing join between tables\n",
    "cur2 = conn.cursor()\n",
    "print(\"------------------Join between all tables-------------------\")\n",
    "cur2.execute(\"\"\"\n",
    "SELECT p.*,m.*,v.*,s.* \n",
    "FROM people as p\n",
    "INNER JOIN measurements as m\n",
    "ON p.person_id = m.person_id\n",
    "INNER JOIN visits as v\n",
    "on m.visit_id = v.visit_id\n",
    "INNER JOIN sites as s\n",
    "on s.site_id = v.site_id\n",
    "\"\"\")\n",
    "rows = cur2.fetchall()\n",
    "\n",
    "for row in rows:\n",
    "    print(row)\n",
    "print(\"-----------------------------------------------------------\")\n",
    "#end\n",
    "conn.close()"
   ]
  },
  {
   "cell_type": "code",
   "execution_count": null,
   "metadata": {},
   "outputs": [],
   "source": []
  }
 ],
 "metadata": {
  "kernelspec": {
   "display_name": "Python 3",
   "language": "python",
   "name": "python3"
  },
  "language_info": {
   "codemirror_mode": {
    "name": "ipython",
    "version": 3
   },
   "file_extension": ".py",
   "mimetype": "text/x-python",
   "name": "python",
   "nbconvert_exporter": "python",
   "pygments_lexer": "ipython3",
   "version": "3.8.3"
  }
 },
 "nbformat": 4,
 "nbformat_minor": 4
}
